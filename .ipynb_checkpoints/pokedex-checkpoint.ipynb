{
 "cells": [
  {
   "cell_type": "markdown",
   "metadata": {},
   "source": [
    "## A pokedex- basically identifying pokemon's images\n",
    "\n",
    " we can source the required data using the bing api from microsoft.\n",
    " We can use the following commands for that :\n",
    "\n",
    "###Step 1. install requests package for easy http requests\n",
    "    $ pip install requests\n",
    "    \n",
    "###Step 2. Python script to download images\n",
    "    # import the necessary packages\n",
    "    from requests import exceptions\n",
    "    import argparse\n",
    "    import requests\n",
    "    import cv2\n",
    "    import os\n",
    "\n",
    "    # construct the argument parser and parse the arguments\n",
    "    ap = argparse.ArgumentParser()\n",
    "    ap.add_argument(\"-q\", \"--query\", required=True,\n",
    "        help=\"search query to search Bing Image API for\")\n",
    "    ap.add_argument(\"-o\", \"--output\", required=True,\n",
    "        help=\"path to output directory of images\")\n",
    "    args = vars(ap.parse_args())\n",
    "    \n",
    "###Step 3. Configure some global variables\n",
    "    # set your Microsoft Cognitive Services API key along with (1) the\n",
    "    # maximum number of results for a given search and (2) the group size\n",
    "    # for results (maximum of 50 per request)\n",
    "    API_KEY = \"YOUR_API_KEY_GOES_HERE\"\n",
    "    MAX_RESULTS = 250\n",
    "    GROUP_SIZE = 50\n",
    "\n",
    "    # set the endpoint API URL\n",
    "    URL = \"https://api.cognitive.microsoft.com/bing/v7.0/images/search\"\n",
    "    \n",
    "###Step 4. Configuring exceptions\n",
    "    # when attempting to download images from the web both the Python\n",
    "    # programming language and the requests library have a number of\n",
    "    # exceptions that can be thrown so let's build a list of them now\n",
    "    # so we can filter on them\n",
    "   \n",
    "    \n"
   ]
  },
  {
   "cell_type": "markdown",
   "metadata": {
    "scrolled": true
   },
   "source": [
    " EXCEPTIONS = set([IOError, FileNotFoundError,\n",
    "        exceptions.RequestException, exceptions.HTTPError,\n",
    "        exceptions.ConnectionError, exceptions.Timeout])\n",
    "        "
   ]
  },
  {
   "cell_type": "markdown",
   "metadata": {},
   "source": [
    "###Step 5. initialise search parameters:\n",
    "\n",
    "    # store the search term in a convenience variable then set the\n",
    "    # headers and search parameters\n",
    "    term = args[\"query\"]\n",
    "    headers = {\"Ocp-Apim-Subscription-Key\" : API_KEY}\n",
    "    params = {\"q\": term, \"offset\": 0, \"count\": GROUP_SIZE}\n",
    "\n",
    "    # make the search\n",
    "    print(\"[INFO] searching Bing API for '{}'\".format(term))\n",
    "    search = requests.get(URL, headers=headers, params=params)\n",
    "    search.raise_for_status()\n",
    "\n",
    "    # grab the results from the search, including the total number of\n",
    "    # estimated results returned by the Bing API\n",
    "    results = search.json()\n",
    "    estNumResults = min(results[\"totalEstimatedMatches\"], MAX_RESULTS)\n",
    "    print(\"[INFO] {} total results for '{}'\".format(estNumResults,\n",
    "        term))\n",
    "\n",
    "    # initialize the total number of images downloaded thus far\n",
    "    total = 0"
   ]
  },
  {
   "cell_type": "code",
   "execution_count": null,
   "metadata": {},
   "outputs": [],
   "source": []
  }
 ],
 "metadata": {
  "kernelspec": {
   "display_name": "Python 3",
   "language": "python",
   "name": "python3"
  },
  "language_info": {
   "codemirror_mode": {
    "name": "ipython",
    "version": 3
   },
   "file_extension": ".py",
   "mimetype": "text/x-python",
   "name": "python",
   "nbconvert_exporter": "python",
   "pygments_lexer": "ipython3",
   "version": "3.6.8"
  }
 },
 "nbformat": 4,
 "nbformat_minor": 2
}
